{
 "cells": [
  {
   "cell_type": "markdown",
   "metadata": {
    "jp-MarkdownHeadingCollapsed": true,
    "tags": []
   },
   "source": [
    "## 1. Вход в HuggingFace Hub"
   ]
  },
  {
   "cell_type": "code",
   "execution_count": null,
   "metadata": {
    "cellView": "form",
    "id": "JKTCrY9LU7Oq",
    "tags": []
   },
   "outputs": [],
   "source": [
    "# Получите ваш 'HF' токен 'WRITE' здесь: 'https://huggingface.co/settings/tokens'\n",
    "write_token = \"hf_xxx\"\n",
    "\n",
    "# Если репо не существует, оно автоматически будет создано.\n",
    "repository_name = \"\"    # Пустое поле даст имя для репо - 'THE_NAME_WAS_NOT_GIVEN'\n",
    "\n",
    "# Сделать ваше репо приватным?\n",
    "make_private = False    # 'True' или 'False'\n",
    "\n",
    "\n",
    "\n",
    "\n",
    "\n",
    "# =======================================================================================\n",
    "import os\n",
    "import re\n",
    "from huggingface_hub import login\n",
    "from huggingface_hub import HfApi\n",
    "from huggingface_hub.utils import validate_repo_id, HfHubHTTPError\n",
    "\n",
    "!git config --global credential.helper store\n",
    "\n",
    "\n",
    "def sanitize_model_name(name):\n",
    "    # Remove invalid characters, limit the length, and fix other problems if there are any\n",
    "    name = re.sub(r\"[^\\w.-]\", \"\", name)\n",
    "    name = name[:96]\n",
    "    name = name.strip(\"-.\")\n",
    "    name = name.replace(\"..\", \".\")\n",
    "    return name\n",
    "\n",
    "\n",
    "def authenticate(write_token):\n",
    "    login(write_token, add_to_git_credential=True)\n",
    "    api = HfApi()\n",
    "    return api.whoami(write_token), api\n",
    "\n",
    "\n",
    "def create_repo(api, user, repo_name, repo_type, make_private=False):\n",
    "    global model_repo\n",
    "\n",
    "    repo_id = user[\"name\"] + \"/\" + repo_name.strip()\n",
    "\n",
    "    try:\n",
    "        validate_repo_id(repo_id)\n",
    "        api.create_repo(repo_id=repo_id, repo_type=repo_type, private=make_private)\n",
    "        print(f\"\\nРепо '{repo_id}' не существует, создние репо.\")\n",
    "    except HfHubHTTPError as e:\n",
    "        print(f\"\\nРепо '{repo_id}' существует, пропуск создания репо.\")\n",
    "\n",
    "    model_repo = repo_id\n",
    "    print(f\"Репо '{repo_id}' - ссылка: https://huggingface.co/{repo_id}\\n\")\n",
    "\n",
    "    \n",
    "user, api = authenticate(write_token)\n",
    "\n",
    "if repository_name:\n",
    "    sanitized_model_name = sanitize_model_name(repository_name)\n",
    "    create_repo(api, user, repo_name=sanitized_model_name, repo_type=\"model\", make_private=make_private)\n",
    "else:\n",
    "    create_repo(api, user, repo_name=\"THE_NAME_WAS_NOT_GIVEN\", repo_type=\"model\", make_private=make_private)"
   ]
  },
  {
   "cell_type": "markdown",
   "metadata": {
    "jp-MarkdownHeadingCollapsed": true,
    "tags": []
   },
   "source": [
    "## 2. Загрузка на HuggingFace"
   ]
  },
  {
   "cell_type": "code",
   "execution_count": null,
   "metadata": {
    "cellView": "form",
    "id": "mQ64tJxfHjjX",
    "tags": []
   },
   "outputs": [],
   "source": [
    "# Укажите путь к папке/файлу для загрузки. | Поддерживается также несколько путей, просто укажите их через запятую/пробел.\n",
    "paths_input = \"\"\n",
    "\n",
    "# Это путь директорий которые будут созданы в вашем репо. (Не обязательно)\n",
    "path_in_repo = \"\"      # Указывайте в конце пути '/' - это важно!\n",
    "\n",
    "# Другая информация.\n",
    "commit_message = \"\"    # Не обязательное для заполнения.\n",
    "\n",
    "\n",
    "\n",
    "\n",
    "\n",
    "# =======================================================================================\n",
    "import re\n",
    "from huggingface_hub import HfApi\n",
    "from pathlib import Path\n",
    "\n",
    "%store -r\n",
    "\n",
    "api = HfApi()\n",
    "\n",
    "\n",
    "if not commit_message:\n",
    "    commit_message = \"no commit message...\"\n",
    "\n",
    "\n",
    "def upload_to_hf_single(path, is_config):\n",
    "    path_obj = Path(path)\n",
    "    is_folder = path_obj.is_dir()\n",
    "    files = path_in_repo + path_obj.parts[-1]\n",
    "\n",
    "    print(f\"Загрузка '{files}'\")\n",
    "    print(\"Пожалуйста, подождите... Если ничего не происходит это не значит что все встало, просто больше файлы, обрабатываются дольше...\", end=\" \")\n",
    "\n",
    "    if is_folder:\n",
    "        api.upload_folder(\n",
    "            folder_path=path,\n",
    "            path_in_repo=files,\n",
    "            repo_id=model_repo,\n",
    "            commit_message=commit_message,\n",
    "            ignore_patterns=\".ipynb_checkpoints\",\n",
    "        )\n",
    "        print(f\"\\rУспешная загрузка! Расположение по ссылке - https://huggingface.co/{model_repo}/tree/main/{files}\\n---\\n\")\n",
    "    else:\n",
    "        api.upload_file(\n",
    "            path_or_fileobj=path,\n",
    "            path_in_repo=files,\n",
    "            repo_id=model_repo,\n",
    "            commit_message=commit_message,\n",
    "        )\n",
    "        print(f\"\\rУспешная загрузка! Расположение по ссылке - https://huggingface.co/{model_repo}/blob/main/{files}\\n---\\n\")\n",
    "\n",
    "\n",
    "def upload_to_hf_multi(paths, is_config):\n",
    "    paths = re.split(r\"[,\\s]+\", paths)\n",
    "\n",
    "    for path in paths:\n",
    "        if not path.startswith(\"/home/studio-lab-user/\"):\n",
    "            path = \"/home/studio-lab-user/\" + path\n",
    "        upload_to_hf_single(path, is_config)\n",
    "\n",
    "\n",
    "def upload(paths_input):\n",
    "    print(f\"Загрузка происходит в репо '{model_repo}' | https://huggingface.co/{model_repo}\\n\\n\")\n",
    "\n",
    "    if \",\" in paths_input or \" \" in paths_input:\n",
    "        upload_to_hf_multi(paths_input, False)\n",
    "    else:\n",
    "        if not paths_input.startswith(\"/home/studio-lab-user/\"):\n",
    "            paths_input = \"/home/studio-lab-user/\" + paths_input\n",
    "        upload_to_hf_single(paths_input, False)\n",
    "\n",
    "\n",
    "upload(paths_input)"
   ]
  },
  {
   "cell_type": "markdown",
   "metadata": {},
   "source": [
    "## ---"
   ]
  }
 ],
 "metadata": {
  "colab": {
   "provenance": []
  },
  "kernelspec": {
   "display_name": "default:Python",
   "language": "python",
   "name": "conda-env-default-py"
  },
  "language_info": {
   "codemirror_mode": {
    "name": "ipython",
    "version": 3
   },
   "file_extension": ".py",
   "mimetype": "text/x-python",
   "name": "python",
   "nbconvert_exporter": "python",
   "pygments_lexer": "ipython3",
   "version": "3.9.16"
  }
 },
 "nbformat": 4,
 "nbformat_minor": 4
}
