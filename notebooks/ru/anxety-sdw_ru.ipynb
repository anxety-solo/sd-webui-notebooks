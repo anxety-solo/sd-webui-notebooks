{
  "metadata": {
    "kernelspec": {
      "display_name": "Python 3",
      "name": "python3"
    },
    "language_info": {
      "name": "python",
      "version": "3.10.13",
      "mimetype": "text/x-python",
      "codemirror_mode": {
        "name": "ipython",
        "version": 3
      },
      "pygments_lexer": "ipython3",
      "nbconvert_exporter": "python",
      "file_extension": ".py"
    },
    "kaggle": {
      "accelerator": "nvidiaTeslaT4",
      "dataSources": [],
      "dockerImageVersionId": 30648,
      "isInternetEnabled": true,
      "language": "python",
      "sourceType": "notebook",
      "isGpuEnabled": true
    },
    "colab": {
      "provenance": [],
      "gpuType": "T4"
    },
    "accelerator": "GPU"
  },
  "nbformat_minor": 0,
  "nbformat": 4,
  "cells": [
    {
      "cell_type": "markdown",
      "source": [
        "# **~ ❄️ ANXETY | sd-webui | ULTIMATE ❄️ ~**\n",
        "\n",
        "\n",
        "<small><font color=gray>Версия от: 18-02-24</small>\n",
        "\n",
        "\n",
        "<img src=\"https://count.getloli.com/get/@:Ayama-Colab?theme=rule34\" height=\"90px\" alt=\"Куда делись девочки?\"/>"
      ],
      "metadata": {
        "_uuid": "8f2839f25d086af736a60e9eeb907d3b93b6e0e5",
        "_cell_guid": "b1076dfc-b9ad-4769-8c92-a6c4dae69d19",
        "id": "-o_R5eQy3C7r"
      }
    },
    {
      "cell_type": "markdown",
      "source": [
        "# ! Загрузите файлы перед использованием 👇 !"
      ],
      "metadata": {
        "id": "eJiJff5u3C7z"
      }
    },
    {
      "cell_type": "code",
      "source": [
        "lang = \"ru\"\n",
        "\n",
        "# ================================================================\n",
        "import os\n",
        "import sys\n",
        "import shutil\n",
        "from IPython.utils import capture\n",
        "\n",
        "def detect_environment():\n",
        "    environments = {\n",
        "        'COLAB_GPU': ('Google Colab', \"/content\"),\n",
        "        'KAGGLE_URL_BASE': ('Kaggle', \"/kaggle/working/content\"),\n",
        "        'SAGEMAKER_INTERNAL_IMAGE_URI': ('SageMaker Studio Lab', \"/home/studio-lab-user/content\")\n",
        "    }\n",
        "\n",
        "    for env_var, (environment, path) in environments.items():\n",
        "        if env_var in os.environ:\n",
        "            return environment, path\n",
        "\n",
        "    sys.exit(\"\\033[31mError: an unsupported runtime environment was detected.\\n\\033[34mSupported environments:\\033[0m Google Colab, Kaggle, Sagemaker Studio Lab\")\n",
        "\n",
        "env, root_path = detect_environment()\n",
        "webui_path = f\"{root_path}/sdw\"\n",
        "\n",
        "print(f\"Среда выполнения: \\033[33m{env}\\n\\033[0m\")\n",
        "\n",
        "print('Пожалуйста, дождитесь загрузки файлов... 👀', end='')\n",
        "with capture.capture_output() as cap:\n",
        "    files = [f'widgets_{lang}.py', f'downloading_{lang}.py', f'launch_{lang}.py', f'auto-cleaner_{lang}.py']\n",
        "    folder_path = f'{root_path}/file_cell'\n",
        "\n",
        "    if os.path.exists(folder_path):\n",
        "        shutil.rmtree(folder_path)\n",
        "\n",
        "    !mkdir -p {folder_path}\n",
        "\n",
        "    for file in files:\n",
        "        !wget -q https://huggingface.co/NagisaNao/fast_repo/resolve/main/files_cells/python/{lang}/{file} -O {folder_path}/{file}\n",
        "\n",
        "del cap\n",
        "print(\"\\rГотово! Теперь вы можете запустить ячейки ниже. ☄️\" + \" \"*30)"
      ],
      "metadata": {
        "trusted": true,
        "id": "JERmZpc73C70"
      },
      "execution_count": null,
      "outputs": []
    },
    {
      "cell_type": "markdown",
      "source": [
        "---\n",
        "## 1. Виджеты 🔽"
      ],
      "metadata": {
        "id": "7Vp3PPQu3C72"
      }
    },
    {
      "cell_type": "code",
      "source": [
        "# Выбор моделей, vae, control-net и прочее.\n",
        "\n",
        "%run {root_path}/file_cell/widgets_{lang}.py"
      ],
      "metadata": {
        "trusted": true,
        "id": "AvPTeS2k3C73"
      },
      "execution_count": null,
      "outputs": []
    },
    {
      "cell_type": "markdown",
      "source": [
        "## 2. Загрузка 🔽"
      ],
      "metadata": {
        "id": "lJapmTPK3C73"
      }
    },
    {
      "cell_type": "code",
      "source": [
        "# Загрузка библиотек, репо, моделей и прочего.\n",
        "# Установка библиотек может занять около 5 минут~\n",
        "\n",
        "%run {root_path}/file_cell/downloading_{lang}.py"
      ],
      "metadata": {
        "trusted": true,
        "id": "6k4Fzd6t3C74"
      },
      "execution_count": null,
      "outputs": []
    },
    {
      "cell_type": "markdown",
      "source": [
        "## 3. Запуск 🔽"
      ],
      "metadata": {
        "id": "QaD7neX43C77"
      }
    },
    {
      "cell_type": "code",
      "source": [
        "# Запуск WebUI.\n",
        "\n",
        "%run {root_path}/file_cell/launch_{lang}.py"
      ],
      "metadata": {
        "trusted": true,
        "id": "EDF0rR943C78"
      },
      "execution_count": null,
      "outputs": []
    },
    {
      "cell_type": "markdown",
      "source": [
        "---\n",
        "# Утилиты"
      ],
      "metadata": {
        "id": "2PhQJji-lH0X"
      }
    },
    {
      "cell_type": "code",
      "source": [
        "# Запуск AutoCleaner.\n",
        "\n",
        "%run {root_path}/file_cell/auto-cleaner_{lang}.py"
      ],
      "metadata": {
        "id": "5H9B3pZDlHdc"
      },
      "execution_count": null,
      "outputs": []
    }
  ]
}